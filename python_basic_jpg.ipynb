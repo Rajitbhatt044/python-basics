{
  "nbformat": 4,
  "nbformat_minor": 0,
  "metadata": {
    "colab": {
      "provenance": []
    },
    "kernelspec": {
      "name": "python3",
      "display_name": "Python 3"
    },
    "language_info": {
      "name": "python"
    }
  },
  "cells": [
    {
      "cell_type": "markdown",
      "source": [
        "#python basics"
      ],
      "metadata": {
        "id": "0RTXtzmw3hwU"
      }
    },
    {
      "cell_type": "markdown",
      "source": [
        "1. what is python, and why is it popular?\n",
        "\n",
        "  - python is a programing language that is easy to understand and write, making it a popular choice among developers and programmers.\n",
        "  - It is compatible with various programming paradigms, such as procedural, object-oriented, and functional programming.\n",
        "  - Python has a large and active community of developers, an extensive standard library, and third-party packages for various domains.\n",
        "  \n",
        "  "
      ],
      "metadata": {
        "id": "zvb5XP064xGn"
      }
    },
    {
      "cell_type": "markdown",
      "source": [
        "  2. What is an interpreter in Python?\n",
        "\n",
        "   - interpreter is a program that executes Python code line by line. It reads Python script and converts it into machine-readable instructions and runs it directly."
      ],
      "metadata": {
        "id": "h0a7mevuVfmZ"
      }
    },
    {
      "cell_type": "markdown",
      "source": [
        "  3. What are pre-defined keywords in Python?\n",
        "   - Pre-defined keywords in Python are reserved words that have special meaning in the language. You cannot use them as variable names, function names, or identifiers."
      ],
      "metadata": {
        "id": "WKORfbi0XOoF"
      }
    },
    {
      "cell_type": "markdown",
      "source": [
        "4. Can keywords be used as variable names\n",
        "  -  No, keywords cannot be used as variable names in Python."
      ],
      "metadata": {
        "id": "-CKXPWBzX4ZX"
      }
    },
    {
      "cell_type": "markdown",
      "source": [
        "5. What is mutability in Python?\n",
        "  - mutability is change the element in list\n",
        "  -  Mutability refers to whether or not an object’s value can be changed after it’s created.\n",
        "  - example below\n",
        "\n"
      ],
      "metadata": {
        "id": "VXgjM_2DY0TC"
      }
    },
    {
      "cell_type": "code",
      "source": [
        "list_cont = [1,4,7,9,76]\n",
        "list_cont[4]=10\n",
        "print(list_cont)"
      ],
      "metadata": {
        "colab": {
          "base_uri": "https://localhost:8080/"
        },
        "id": "Lg0zxR2nc4Hq",
        "outputId": "6b0905d2-56f2-46c8-8a9b-737d65115084"
      },
      "execution_count": null,
      "outputs": [
        {
          "output_type": "stream",
          "name": "stdout",
          "text": [
            "[1, 4, 7, 9, 10]\n"
          ]
        }
      ]
    },
    {
      "cell_type": "markdown",
      "source": [
        "6. Why are lists mutable, but tuples are immutable?\n",
        "  - A list in Python is designed to be a dynamic collection of items. This means:\n",
        " You can add, remove, or change elements after the list is created\n",
        " - but in  tuple is designed to be a fixed collection of items. This means:\n",
        "Once created, the contents of a tuple cannot be changed."
      ],
      "metadata": {
        "id": "pKoVEIAYfUcU"
      }
    },
    {
      "cell_type": "markdown",
      "source": [
        "7. What is the difference between “==” and “is” operators in Python?\n",
        "  - == Operator (Equality)\n",
        "Checks if values are equal or not\n",
        "  - It compares contents of two variables.\n",
        "  - Even if the variables are stored in different memory locations, it still returns True if the values are the same.\n",
        "  - is operator  (Identity)\n",
        " - Checks if two variables point to the same object in memory\n",
        "\n",
        "  - It compares the identity (memory address), not the content."
      ],
      "metadata": {
        "id": "mG_k86J9h6Vh"
      }
    },
    {
      "cell_type": "markdown",
      "source": [
        "8. What are logical operators in Python?\n",
        "\n",
        "- Logical operators are used to combine conditional statements expressions that return True or False.\n",
        "- Python provides three logical operators: or , and , not\n"
      ],
      "metadata": {
        "id": "i__VP6vHk_ci"
      }
    },
    {
      "cell_type": "markdown",
      "source": [
        "9.  What is type casting in Python?\n",
        "- Type casting (also known as type conversion) in Python refers to the process of converting a value from one data type to another. This is often necessary when you need to perform operations that require specific data types, or when you want to represent data in a different format."
      ],
      "metadata": {
        "id": "_VZKuDwKMc-A"
      }
    },
    {
      "cell_type": "markdown",
      "source": [],
      "metadata": {
        "id": "XdwawyWdNdd_"
      }
    },
    {
      "cell_type": "markdown",
      "source": [
        "10. What is the difference between implicit and explicit type casting?\n",
        "- Python supports two main types of type casting:\n",
        "\n",
        "- Implicit Type Casting (Coercion): This occurs automatically when Python converts a data type into another data type without any user intervention. This usually happens in expressions where different data types are involved, and Python promotes the \"smaller\" data type to the \"larger\" data type to avoid data loss. For example, when an integer and a float are added, the integer is implicitly converted to a float.\n",
        "- Explicit Type Casting (Type Conversion): This is done by the user using built-in functions like int(), float(), str(), list(), tuple(), etc. The user explicitly specifies the desired data type for the conversion. This is used when automatic conversion isn't desired or possible, or when you need to force a conversion that might result in data loss (e.g., converting a float to an integer)."
      ],
      "metadata": {
        "id": "kvnxcxJvNoU_"
      }
    },
    {
      "cell_type": "markdown",
      "source": [
        "11. What is the purpose of conditional statements in Python?\n",
        "- Conditional statements in Python allow you to execute different blocks of code based on whether certain conditions are true or false. They are fundamental for controlling the flow of a program, enabling it to make decisions and respond dynamically to various inputs or situations. The primary conditional statements are if, elif, and else."
      ],
      "metadata": {
        "id": "4IaVG9EwOFMP"
      }
    },
    {
      "cell_type": "markdown",
      "source": [
        "12. How does the elif statement work?\n",
        "- The elif (short for \"else if\") statement in Python is used in conjunction with an if statement (and optionally an else statement) to test multiple conditions sequentially. It allows you to check a new condition only if the preceding if or elif conditions were false.\n",
        "\n",
        "- Here's how it works:\n",
        "\n",
        "The if condition is evaluated first. If it's true, its corresponding code block is executed, and the rest of the elif and else blocks are skipped.\n",
        "\n",
        "If the if condition is false, the first elif condition is then evaluated.\n",
        "\n",
        "If that elif condition is true, its corresponding code block is executed, and subsequent elif and else blocks are skipped.\n",
        "\n",
        "This process continues down the chain of elif statements.\n",
        "\n",
        "If none of the if or elif conditions are true, the else block (if present) is executed as a default."
      ],
      "metadata": {
        "id": "P_HVEKKAORjo"
      }
    },
    {
      "cell_type": "code",
      "source": [
        "Python\n",
        "\n",
        "score = 85\n",
        "\n",
        "if score >= 90:\n",
        "    print(\"Excellent!\")\n",
        "elif score >= 75: # This is checked only if score < 90\n",
        "    print(\"Very Good!\")\n",
        "elif score >= 60: # This is checked only if score < 75\n",
        "    print(\"Good!\")\n",
        "else:\n",
        "    print(\"Needs Improvement.\")"
      ],
      "metadata": {
        "id": "WIhOVjB5Oeh3"
      },
      "execution_count": null,
      "outputs": []
    },
    {
      "cell_type": "markdown",
      "source": [
        "13. What is the difference between for and while loops?\n",
        "-"
      ],
      "metadata": {
        "id": "3LJQlqrGOnV_"
      }
    },
    {
      "cell_type": "code",
      "source": [
        "for loop:\n",
        "\n",
        "Python\n",
        "\n",
        "# Iterating over a list\n",
        "fruits = [\"apple\", \"banana\", \"cherry\"]\n",
        "for fruit in fruits:\n",
        "    print(fruit)\n",
        "\n",
        "# Iterating a specific number of times\n",
        "for i in range(5): # Iterates 5 times (0, 1, 2, 3, 4)\n",
        "    print(f\"Iteration {i}\")\n",
        "while loop:\n",
        "\n",
        "Python\n",
        "\n",
        "# Counting up to a number\n",
        "count = 0\n",
        "while count < 5:\n",
        "    print(count)\n",
        "    count += 1 # Important: Update the condition variable to avoid infinite loop\n",
        "\n",
        "# User input until a specific value is entered\n",
        "password = \"\"\n",
        "while password != \"secret\":\n",
        "    password = input(\"Enter the password: \")\n",
        "print(\"Access granted!\")"
      ],
      "metadata": {
        "id": "p8O2fPk8PE1S"
      },
      "execution_count": null,
      "outputs": []
    },
    {
      "cell_type": "markdown",
      "source": [
        "14. Describe a scenario where a while loop is more suitable than a for loop.\n",
        "- A while loop is more suitable than a for loop when the number of iterations is not known in advance, and the loop needs to continue based on a dynamic condition that changes during the execution of the loop.\n",
        "\n",
        "Scenario: User Input Validation\n",
        "\n",
        "Imagine you are writing a program that requires the user to input a positive integer. You want to keep prompting the user for input until they provide a valid positive integer."
      ],
      "metadata": {
        "id": "12UZB-j3PJTg"
      }
    },
    {
      "cell_type": "code",
      "source": [
        "# Scenario where a while loop is more suitable\n",
        "user_input = \"\"\n",
        "is_valid_input = False\n",
        "\n",
        "while not is_valid_input:\n",
        "    user_input = input(\"Please enter a positive integer: \")\n",
        "    try:\n",
        "        number = int(user_input)\n",
        "        if number > 0:\n",
        "            is_valid_input = True\n",
        "            print(f\"You entered a valid number: {number}\")\n",
        "        else:\n",
        "            print(\"Error: The number must be positive. Please try again.\")\n",
        "    except ValueError:\n",
        "        print(\"Error: Invalid input. Please enter an integer.\")"
      ],
      "metadata": {
        "id": "ejgDCMwRPZvW"
      },
      "execution_count": null,
      "outputs": []
    },
    {
      "cell_type": "markdown",
      "source": [
        "#practical question"
      ],
      "metadata": {
        "id": "No-0wg-tPh_N"
      }
    },
    {
      "cell_type": "markdown",
      "source": [
        "1. Write a Python program to print \"Hello, World!\""
      ],
      "metadata": {
        "id": "kuGHcayoPp6O"
      }
    },
    {
      "cell_type": "code",
      "source": [
        "print(\"Hello, World!\")\n"
      ],
      "metadata": {
        "id": "GGRKCTiFQAPN"
      },
      "execution_count": null,
      "outputs": []
    },
    {
      "cell_type": "markdown",
      "source": [
        "2. Write a Python program that displays your name and age"
      ],
      "metadata": {
        "id": "V3fOsm_EQJZJ"
      }
    },
    {
      "cell_type": "code",
      "source": [
        "name = \"rajit\"  # Replace with your name\n",
        "age = 23    # Replace with your age\n",
        "\n",
        "print(f\"My name is {name} and I am {age} years old.\")"
      ],
      "metadata": {
        "id": "uO-wN2ZZQNJe"
      },
      "execution_count": null,
      "outputs": []
    },
    {
      "cell_type": "markdown",
      "source": [
        "3. Write code to print all the pre-defined keywords in Python using the keyword library"
      ],
      "metadata": {
        "id": "TVuo4tp_Qbty"
      }
    },
    {
      "cell_type": "code",
      "source": [
        "import keyword\n",
        "\n",
        "print(\"Python Keywords:\")\n",
        "for kw in keyword.kwlist:\n",
        "    print(kw)"
      ],
      "metadata": {
        "id": "Dr72n4KIQfk-"
      },
      "execution_count": null,
      "outputs": []
    },
    {
      "cell_type": "markdown",
      "source": [
        " 4. Write a program that checks if a given word is a Python keyword."
      ],
      "metadata": {
        "id": "MDlQGlbuQn73"
      }
    },
    {
      "cell_type": "code",
      "source": [
        "import keyword\n",
        "\n",
        "word = input(\"Enter a word to check if it's a Python keyword: \")\n",
        "\n",
        "if keyword.iskeyword(word):\n",
        "    print(f\"'{word}' is a Python keyword.\")\n",
        "else:\n",
        "    print(f\"'{word}' is NOT a Python keyword.\")"
      ],
      "metadata": {
        "id": "TdzerYCBQuTL"
      },
      "execution_count": null,
      "outputs": []
    },
    {
      "cell_type": "markdown",
      "source": [
        "5. create a list and tuple in Python, and demonstrate how attempting to change an element works differently for each."
      ],
      "metadata": {
        "id": "PgVhLW6rQw3A"
      }
    },
    {
      "cell_type": "code",
      "source": [
        "\n",
        "my_list = [10, 20, 30, 40]\n",
        "print(\"Original List:\", my_list)\n",
        "\n",
        "try:\n",
        "    my_list[1] = 25\n",
        "    print(\"List after changing element at index 1:\", my_list)\n",
        "except TypeError as e:\n",
        "    print(f\"Error trying to change list element: {e}\")\n",
        "\n",
        "print(\"-\" * 30)\n",
        "my_tuple = (100, 200, 300, 400)\n",
        "print(\"Original Tuple:\", my_tuple)\n",
        "try:\n",
        "    my_tuple[1] = 250\n",
        "    print(\"Tuple after attempting to change element at index 1:\", my_tuple)\n",
        "except TypeError as e:\n",
        "    print(f\"Error trying to change tuple element: {e} (Tuples are immutable)\")\n",
        "\n",
        "print(\"Tuple remains unchanged:\", my_tuple)"
      ],
      "metadata": {
        "id": "KABWX6b5Q9TG"
      },
      "execution_count": null,
      "outputs": []
    },
    {
      "cell_type": "markdown",
      "source": [
        "6. Write a function to demonstrate the behavior of mutable and immutable arguments."
      ],
      "metadata": {
        "id": "HKZHXOVKRJ4F"
      }
    },
    {
      "cell_type": "code",
      "source": [
        "def modify_immutable(num):\n",
        "    \"\"\"Demonstrates behavior with an immutable argument (integer).\"\"\"\n",
        "    print(f\"Inside modify_immutable - Initial value: {num}\")\n",
        "    num += 10\n",
        "    print(f\"Inside modify_immutable - Modified value: {num}\")\n",
        "\n",
        "def modify_mutable(my_list):\n",
        "    \"\"\"Demonstrates behavior with a mutable argument (list).\"\"\"\n",
        "    print(f\"Inside modify_mutable - Initial list: {my_list}\")\n",
        "    my_list.append(99)\n",
        "    my_list[0] = 0\n",
        "    print(f\"Inside modify_mutable - Modified list: {my_list}\")\n",
        "\n",
        "print(\"--- Demonstrating Immutable Argument (Integer) ---\")\n",
        "my_int = 5\n",
        "print(f\"Outside function - Original integer: {my_int}\")\n",
        "modify_immutable(my_int)\n",
        "print(f\"Outside function - Integer after function call: {my_int}\")\n",
        "\n",
        "print(\"\\n\" + \"=\" * 40 + \"\\n\")\n",
        "\n",
        "print(\"--- Demonstrating Mutable Argument (List) ---\")\n",
        "my_list_arg = [1, 2, 3]\n",
        "print(f\"Outside function - Original list: {my_list_arg}\")\n",
        "modify_mutable(my_list_arg)\n",
        "print(f\"Outside function - List after function call: {my_list_arg}\")"
      ],
      "metadata": {
        "id": "cCWj9qoCRSQy"
      },
      "execution_count": null,
      "outputs": []
    },
    {
      "cell_type": "markdown",
      "source": [
        "7. Write a program that performs basic arithmetic operations on two user-input numbers."
      ],
      "metadata": {
        "id": "9KE6ipLJRi_o"
      }
    },
    {
      "cell_type": "code",
      "source": [
        "try:\n",
        "    num1 = float(input(\"Enter the first number: \"))\n",
        "    num2 = float(input(\"Enter the second number: \"))\n",
        "\n",
        "    print(f\"\\nResults of arithmetic operations for {num1} and {num2}:\")\n",
        "    print(f\"Addition: {num1} + {num2} = {num1 + num2}\")\n",
        "    print(f\"Subtraction: {num1} - {num2} = {num1 - num2}\")\n",
        "    print(f\"Multiplication: {num1} * {num2} = {num1 * num2}\")\n",
        "\n",
        "    if num2 != 0:\n",
        "        print(f\"Division: {num1} / {num2} = {num1 / num2}\")\n",
        "        print(f\"Floor Division: {num1} // {num2} = {num1 // num2}\")\n",
        "        print(f\"Modulus (Remainder): {num1} % {num2} = {num1 % num2}\")\n",
        "    else:\n",
        "        print(\"Cannot perform division, floor division, or modulus by zero.\")\n",
        "\n",
        "    print(f\"Exponentiation: {num1} ** {num2} = {num1 ** num2}\")\n",
        "\n",
        "except ValueError:\n",
        "    print(\"Invalid input. Please enter valid numbers.\")"
      ],
      "metadata": {
        "id": "XhptdJ2PRpqN"
      },
      "execution_count": null,
      "outputs": []
    },
    {
      "cell_type": "markdown",
      "source": [
        "8. Write a program to demonstrate the use of logical operators."
      ],
      "metadata": {
        "id": "wQseTrPhR0sx"
      }
    },
    {
      "cell_type": "code",
      "source": [
        "\n",
        "age = int(input(\"Enter your age: \"))\n",
        "has_ticket = input(\"Do you have a ticket? (yes/no): \").lower() == 'yes'\n",
        "is_student = input(\"Are you a student? (yes/no): \").lower() == 'yes'\n",
        "\n",
        "print(\"\\n--- Demonstrating Logical Operators ---\")\n",
        "\n",
        "if age >= 18 and has_ticket:\n",
        "    print(\"You are an adult AND you have a ticket. You can enter.\")\n",
        "else:\n",
        "    print(\"You cannot enter (check age and ticket).\")\n",
        "\n",
        "if age < 12 or is_student:\n",
        "    print(\"You get a discount (either under 12 OR a student).\")\n",
        "else:\n",
        "    print(\"No discount for you.\")\n",
        "\n",
        "if not has_ticket:\n",
        "    print(\"You do NOT have a ticket. Please purchase one.\")\n",
        "else:\n",
        "    print(\"You have a ticket.\")\n",
        "\n",
        "if (age > 60 and not has_ticket) or (is_student and age < 25):\n",
        "    print(\"Special consideration for senior citizens without ticket OR young students.\")\n",
        "else:\n",
        "    print(\"No special consideration based on this criteria.\")"
      ],
      "metadata": {
        "id": "tHvWMJCQR4MK"
      },
      "execution_count": null,
      "outputs": []
    },
    {
      "cell_type": "markdown",
      "source": [
        "9. Write a Python program to convert user input from string to integer, float, and boolean types."
      ],
      "metadata": {
        "id": "USxz-2jUSHLZ"
      }
    },
    {
      "cell_type": "code",
      "source": [
        "\n",
        "try:\n",
        "    int_str = input(\"Enter a string to convert to integer: \")\n",
        "    converted_int = int(int_str)\n",
        "    print(f\"'{int_str}' converted to integer: {converted_int} (Type: {type(converted_int)})\")\n",
        "except ValueError:\n",
        "    print(f\"Error: Cannot convert '{int_str}' to integer.\")\n",
        "\n",
        "print(\"-\" * 30)\n",
        "\n",
        "\n",
        "try:\n",
        "    float_str = input(\"Enter a string to convert to float: \")\n",
        "    converted_float = float(float_str)\n",
        "    print(f\"'{float_str}' converted to float: {converted_float} (Type: {type(converted_float)})\")\n",
        "except ValueError:\n",
        "    print(f\"Error: Cannot convert '{float_str}' to float.\")\n",
        "\n",
        "print(\"-\" * 30)\n",
        "\n",
        "bool_str = input(\"Enter a string to convert to boolean (e.g., 'True', 'False', '1', '0', empty string): \")\n",
        "\n",
        "if bool_str.lower() == 'true' or bool_str == '1':\n",
        "    converted_bool = True\n",
        "elif bool_str.lower() == 'false' or bool_str == '0':\n",
        "    converted_bool = False\n",
        "else:\n",
        "    converted_bool = bool(bool_str)\n",
        "\n",
        "print(f\"'{bool_str}' converted to boolean: {converted_bool} (Type: {type(converted_bool)})\")"
      ],
      "metadata": {
        "id": "L_N7dkORSLGI"
      },
      "execution_count": null,
      "outputs": []
    },
    {
      "cell_type": "markdown",
      "source": [
        "10. Write code to demonstrate type casting with list elements."
      ],
      "metadata": {
        "id": "OQYjHzUMScd6"
      }
    },
    {
      "cell_type": "code",
      "source": [
        "mixed_list = [\"10\", 25.5, \"True\", \"5\", 100]\n",
        "print(\"Original mixed list:\", mixed_list)\n",
        "print(\"Types of original elements:\", [type(item) for item in mixed_list])\n",
        "\n",
        "print(\"\\n--- Type Casting List Elements ---\")\n",
        "\n",
        "integers_list = []\n",
        "for item in mixed_list:\n",
        "    try:\n",
        "        integers_list.append(int(item))\n",
        "    except (ValueError, TypeError):\n",
        "        integers_list.append(f\"Cannot convert '{item}' to int\")\n",
        "print(\"List after casting to integers:\", integers_list)\n",
        "print(\"Types of integer-casted elements:\", [type(item) for item in integers_list if not isinstance(item, str) or \"Cannot convert\" not in item])\n",
        "\n",
        "floats_list = []\n",
        "for item in mixed_list:\n",
        "    try:\n",
        "        floats_list.append(float(item))\n",
        "    except (ValueError, TypeError):\n",
        "        floats_list.append(f\"Cannot convert '{item}' to float\")\n",
        "print(\"\\nList after casting to floats:\", floats_list)\n",
        "print(\"Types of float-casted elements:\", [type(item) for item in floats_list if not isinstance(item, str) or \"Cannot convert\" not in item])\n",
        "\n",
        "strings_list = []\n",
        "for item in mixed_list:\n",
        "    strings_list.append(str(item))\n",
        "print(\"\\nList after casting to strings:\", strings_list)\n",
        "print(\"Types of string-casted elements:\", [type(item) for item in strings_list])\n",
        "price_strings = [\"10.50\", \"20\", \"3.75\"]\n",
        "prices_float = [float(p) for p in price_strings]\n",
        "print(\"\\nOriginal price strings:\", price_strings)\n",
        "print(\"Prices converted to float:\", prices_float)\n",
        "print(\"Types of converted prices:\", [type(item) for item in prices_float])"
      ],
      "metadata": {
        "id": "QOMHy8OKSj3l"
      },
      "execution_count": null,
      "outputs": []
    },
    {
      "cell_type": "markdown",
      "source": [
        "11. Write a program that checks if a number is positive, negative, or zero."
      ],
      "metadata": {
        "id": "7UjUM3_ES3WT"
      }
    },
    {
      "cell_type": "code",
      "source": [
        "try:\n",
        "    num = float(input(\"Enter a number: \"))\n",
        "\n",
        "    if num > 0:\n",
        "        print(f\"The number {num} is positive.\")\n",
        "    elif num < 0:\n",
        "        print(f\"The number {num} is negative.\")\n",
        "    else: # num must be 0\n",
        "        print(f\"The number {num} is zero.\")\n",
        "\n",
        "except ValueError:\n",
        "    print(\"Invalid input. Please enter a valid number.\")"
      ],
      "metadata": {
        "id": "dUEO-FNAS_hu"
      },
      "execution_count": null,
      "outputs": []
    },
    {
      "cell_type": "markdown",
      "source": [
        "12. Write a for loop to print numbers from 1 to 10."
      ],
      "metadata": {
        "id": "yzRqBlo5TFSx"
      }
    },
    {
      "cell_type": "code",
      "source": [
        "print(\"Numbers from 1 to 10 using a for loop:\")\n",
        "for i in range(1, 11): # range(start, stop) - stop is exclusive\n",
        "    print(i)"
      ],
      "metadata": {
        "id": "J23yGRD_TNXM"
      },
      "execution_count": null,
      "outputs": []
    },
    {
      "cell_type": "markdown",
      "source": [
        "13. Write a Python program to find the sum of all even numbers between 1 and 50."
      ],
      "metadata": {
        "id": "ezc9BkRCTRs0"
      }
    },
    {
      "cell_type": "code",
      "source": [
        "sum_of_evens = 0\n",
        "\n",
        "for number in range(1, 51): # Check numbers from 1 to 50\n",
        "    if number % 2 == 0: # If the number is even\n",
        "        sum_of_evens += number\n",
        "\n",
        "print(f\"The sum of all even numbers between 1 and 50 is: {sum_of_evens}\")\n",
        "\n",
        "# Alternative using step in range:\n",
        "# sum_of_evens_alt = 0\n",
        "# for number in range(2, 51, 2): # Start from 2, go up to 50, step by 2\n",
        "#     sum_of_evens_alt += number\n",
        "# print(f\"Alternative sum: {sum_of_evens_alt}\")"
      ],
      "metadata": {
        "id": "TKKS_s2XTX_V"
      },
      "execution_count": null,
      "outputs": []
    },
    {
      "cell_type": "markdown",
      "source": [
        "14.Write a program to reverse a string using a while loop."
      ],
      "metadata": {
        "id": "A_UFKwvjTftL"
      }
    },
    {
      "cell_type": "code",
      "source": [
        "original_string = input(\"Enter a string to reverse: \")\n",
        "reversed_string = \"\"\n",
        "index = len(original_string) - 1 # Start from the last character's index\n",
        "\n",
        "while index >= 0:\n",
        "    reversed_string += original_string[index]\n",
        "    index -= 1\n",
        "\n",
        "print(f\"Original string: '{original_string}'\")\n",
        "print(f\"Reversed string: '{reversed_string}'\")\n",
        "\n",
        "# Built-in way (for comparison, but not using while loop):\n",
        "# print(f\"Reversed using slicing: {original_string[::-1]}\")"
      ],
      "metadata": {
        "id": "hu8JxdVsTqHB"
      },
      "execution_count": null,
      "outputs": []
    },
    {
      "cell_type": "markdown",
      "source": [
        "15. Write a Python program to calculate the factorial of a number provided by the user using a while loop."
      ],
      "metadata": {
        "id": "AzoK_kWhTxUC"
      }
    },
    {
      "cell_type": "code",
      "source": [
        "try:\n",
        "    num = int(input(\"Enter a non-negative integer to calculate its factorial: \"))\n",
        "\n",
        "    if num < 0:\n",
        "        print(\"Factorial is not defined for negative numbers.\")\n",
        "    elif num == 0:\n",
        "        print(\"The factorial of 0 is 1.\")\n",
        "    else:\n",
        "        factorial = 1\n",
        "        i = 1\n",
        "        while i <= num:\n",
        "            factorial *= i\n",
        "            i += 1\n",
        "        print(f\"The factorial of {num} is {factorial}.\")\n",
        "\n",
        "except ValueError:\n",
        "    print(\"Invalid input. Please enter a valid integer.\")"
      ],
      "metadata": {
        "id": "3hDezF-mT2Ii"
      },
      "execution_count": null,
      "outputs": []
    }
  ]
}